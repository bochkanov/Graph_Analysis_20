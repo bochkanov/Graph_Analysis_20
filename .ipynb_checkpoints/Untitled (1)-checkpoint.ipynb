{
 "cells": [
  {
   "cell_type": "code",
   "execution_count": 1,
   "metadata": {
    "collapsed": true
   },
   "outputs": [],
   "source": [
    "import pandas as pd\n",
    "my_friends_names = pd.read_csv('my_friends_names.csv',)\n",
    "edges = pd.read_csv('edges.csv')"
   ]
  },
  {
   "cell_type": "code",
   "execution_count": 2,
   "metadata": {},
   "outputs": [
    {
     "data": {
      "text/html": [
       "<div>\n",
       "<style scoped>\n",
       "    .dataframe tbody tr th:only-of-type {\n",
       "        vertical-align: middle;\n",
       "    }\n",
       "\n",
       "    .dataframe tbody tr th {\n",
       "        vertical-align: top;\n",
       "    }\n",
       "\n",
       "    .dataframe thead th {\n",
       "        text-align: right;\n",
       "    }\n",
       "</style>\n",
       "<table border=\"1\" class=\"dataframe\">\n",
       "  <thead>\n",
       "    <tr style=\"text-align: right;\">\n",
       "      <th></th>\n",
       "      <th>320571</th>\n",
       "      <th>785168</th>\n",
       "    </tr>\n",
       "  </thead>\n",
       "  <tbody>\n",
       "    <tr>\n",
       "      <th>0</th>\n",
       "      <td>320571</td>\n",
       "      <td>1471027</td>\n",
       "    </tr>\n",
       "    <tr>\n",
       "      <th>1</th>\n",
       "      <td>320571</td>\n",
       "      <td>3081872</td>\n",
       "    </tr>\n",
       "    <tr>\n",
       "      <th>2</th>\n",
       "      <td>320571</td>\n",
       "      <td>3107732</td>\n",
       "    </tr>\n",
       "    <tr>\n",
       "      <th>3</th>\n",
       "      <td>320571</td>\n",
       "      <td>3738290</td>\n",
       "    </tr>\n",
       "    <tr>\n",
       "      <th>4</th>\n",
       "      <td>320571</td>\n",
       "      <td>3907676</td>\n",
       "    </tr>\n",
       "    <tr>\n",
       "      <th>5</th>\n",
       "      <td>320571</td>\n",
       "      <td>4223048</td>\n",
       "    </tr>\n",
       "    <tr>\n",
       "      <th>6</th>\n",
       "      <td>320571</td>\n",
       "      <td>5670138</td>\n",
       "    </tr>\n",
       "    <tr>\n",
       "      <th>7</th>\n",
       "      <td>320571</td>\n",
       "      <td>6117019</td>\n",
       "    </tr>\n",
       "    <tr>\n",
       "      <th>8</th>\n",
       "      <td>320571</td>\n",
       "      <td>7393355</td>\n",
       "    </tr>\n",
       "    <tr>\n",
       "      <th>9</th>\n",
       "      <td>320571</td>\n",
       "      <td>7705629</td>\n",
       "    </tr>\n",
       "    <tr>\n",
       "      <th>10</th>\n",
       "      <td>320571</td>\n",
       "      <td>7820335</td>\n",
       "    </tr>\n",
       "    <tr>\n",
       "      <th>11</th>\n",
       "      <td>320571</td>\n",
       "      <td>7840885</td>\n",
       "    </tr>\n",
       "    <tr>\n",
       "      <th>12</th>\n",
       "      <td>320571</td>\n",
       "      <td>8478716</td>\n",
       "    </tr>\n",
       "    <tr>\n",
       "      <th>13</th>\n",
       "      <td>320571</td>\n",
       "      <td>9427552</td>\n",
       "    </tr>\n",
       "    <tr>\n",
       "      <th>14</th>\n",
       "      <td>320571</td>\n",
       "      <td>9466360</td>\n",
       "    </tr>\n",
       "    <tr>\n",
       "      <th>15</th>\n",
       "      <td>320571</td>\n",
       "      <td>10259290</td>\n",
       "    </tr>\n",
       "    <tr>\n",
       "      <th>16</th>\n",
       "      <td>320571</td>\n",
       "      <td>10499365</td>\n",
       "    </tr>\n",
       "    <tr>\n",
       "      <th>17</th>\n",
       "      <td>320571</td>\n",
       "      <td>10834767</td>\n",
       "    </tr>\n",
       "    <tr>\n",
       "      <th>18</th>\n",
       "      <td>320571</td>\n",
       "      <td>10838955</td>\n",
       "    </tr>\n",
       "    <tr>\n",
       "      <th>19</th>\n",
       "      <td>320571</td>\n",
       "      <td>11811054</td>\n",
       "    </tr>\n",
       "    <tr>\n",
       "      <th>20</th>\n",
       "      <td>320571</td>\n",
       "      <td>12324764</td>\n",
       "    </tr>\n",
       "    <tr>\n",
       "      <th>21</th>\n",
       "      <td>320571</td>\n",
       "      <td>12405197</td>\n",
       "    </tr>\n",
       "    <tr>\n",
       "      <th>22</th>\n",
       "      <td>320571</td>\n",
       "      <td>12580620</td>\n",
       "    </tr>\n",
       "    <tr>\n",
       "      <th>23</th>\n",
       "      <td>320571</td>\n",
       "      <td>12876917</td>\n",
       "    </tr>\n",
       "    <tr>\n",
       "      <th>24</th>\n",
       "      <td>320571</td>\n",
       "      <td>13436972</td>\n",
       "    </tr>\n",
       "    <tr>\n",
       "      <th>25</th>\n",
       "      <td>320571</td>\n",
       "      <td>14653469</td>\n",
       "    </tr>\n",
       "    <tr>\n",
       "      <th>26</th>\n",
       "      <td>320571</td>\n",
       "      <td>14785302</td>\n",
       "    </tr>\n",
       "    <tr>\n",
       "      <th>27</th>\n",
       "      <td>320571</td>\n",
       "      <td>17281764</td>\n",
       "    </tr>\n",
       "    <tr>\n",
       "      <th>28</th>\n",
       "      <td>320571</td>\n",
       "      <td>18909575</td>\n",
       "    </tr>\n",
       "    <tr>\n",
       "      <th>29</th>\n",
       "      <td>320571</td>\n",
       "      <td>19184983</td>\n",
       "    </tr>\n",
       "    <tr>\n",
       "      <th>...</th>\n",
       "      <td>...</td>\n",
       "      <td>...</td>\n",
       "    </tr>\n",
       "    <tr>\n",
       "      <th>16645</th>\n",
       "      <td>416673177</td>\n",
       "      <td>35107489</td>\n",
       "    </tr>\n",
       "    <tr>\n",
       "      <th>16646</th>\n",
       "      <td>416673177</td>\n",
       "      <td>38141189</td>\n",
       "    </tr>\n",
       "    <tr>\n",
       "      <th>16647</th>\n",
       "      <td>416673177</td>\n",
       "      <td>49815731</td>\n",
       "    </tr>\n",
       "    <tr>\n",
       "      <th>16648</th>\n",
       "      <td>416673177</td>\n",
       "      <td>93672224</td>\n",
       "    </tr>\n",
       "    <tr>\n",
       "      <th>16649</th>\n",
       "      <td>416673177</td>\n",
       "      <td>119315648</td>\n",
       "    </tr>\n",
       "    <tr>\n",
       "      <th>16650</th>\n",
       "      <td>416673177</td>\n",
       "      <td>133330172</td>\n",
       "    </tr>\n",
       "    <tr>\n",
       "      <th>16651</th>\n",
       "      <td>416673177</td>\n",
       "      <td>147563704</td>\n",
       "    </tr>\n",
       "    <tr>\n",
       "      <th>16652</th>\n",
       "      <td>427311643</td>\n",
       "      <td>13472534</td>\n",
       "    </tr>\n",
       "    <tr>\n",
       "      <th>16653</th>\n",
       "      <td>427311643</td>\n",
       "      <td>21211655</td>\n",
       "    </tr>\n",
       "    <tr>\n",
       "      <th>16654</th>\n",
       "      <td>427311643</td>\n",
       "      <td>94861129</td>\n",
       "    </tr>\n",
       "    <tr>\n",
       "      <th>16655</th>\n",
       "      <td>427311643</td>\n",
       "      <td>377196991</td>\n",
       "    </tr>\n",
       "    <tr>\n",
       "      <th>16656</th>\n",
       "      <td>434195366</td>\n",
       "      <td>59118528</td>\n",
       "    </tr>\n",
       "    <tr>\n",
       "      <th>16657</th>\n",
       "      <td>434195366</td>\n",
       "      <td>82745946</td>\n",
       "    </tr>\n",
       "    <tr>\n",
       "      <th>16658</th>\n",
       "      <td>434195366</td>\n",
       "      <td>322589627</td>\n",
       "    </tr>\n",
       "    <tr>\n",
       "      <th>16659</th>\n",
       "      <td>437350913</td>\n",
       "      <td>8351348</td>\n",
       "    </tr>\n",
       "    <tr>\n",
       "      <th>16660</th>\n",
       "      <td>437350913</td>\n",
       "      <td>13376409</td>\n",
       "    </tr>\n",
       "    <tr>\n",
       "      <th>16661</th>\n",
       "      <td>437350913</td>\n",
       "      <td>37732022</td>\n",
       "    </tr>\n",
       "    <tr>\n",
       "      <th>16662</th>\n",
       "      <td>437350913</td>\n",
       "      <td>41065552</td>\n",
       "    </tr>\n",
       "    <tr>\n",
       "      <th>16663</th>\n",
       "      <td>437350913</td>\n",
       "      <td>60435328</td>\n",
       "    </tr>\n",
       "    <tr>\n",
       "      <th>16664</th>\n",
       "      <td>437350913</td>\n",
       "      <td>95103890</td>\n",
       "    </tr>\n",
       "    <tr>\n",
       "      <th>16665</th>\n",
       "      <td>437350913</td>\n",
       "      <td>122833645</td>\n",
       "    </tr>\n",
       "    <tr>\n",
       "      <th>16666</th>\n",
       "      <td>437350913</td>\n",
       "      <td>163697968</td>\n",
       "    </tr>\n",
       "    <tr>\n",
       "      <th>16667</th>\n",
       "      <td>471642767</td>\n",
       "      <td>15616786</td>\n",
       "    </tr>\n",
       "    <tr>\n",
       "      <th>16668</th>\n",
       "      <td>471642767</td>\n",
       "      <td>52447148</td>\n",
       "    </tr>\n",
       "    <tr>\n",
       "      <th>16669</th>\n",
       "      <td>471642767</td>\n",
       "      <td>101279674</td>\n",
       "    </tr>\n",
       "    <tr>\n",
       "      <th>16670</th>\n",
       "      <td>471642767</td>\n",
       "      <td>290529286</td>\n",
       "    </tr>\n",
       "    <tr>\n",
       "      <th>16671</th>\n",
       "      <td>490352738</td>\n",
       "      <td>29661140</td>\n",
       "    </tr>\n",
       "    <tr>\n",
       "      <th>16672</th>\n",
       "      <td>490352738</td>\n",
       "      <td>60528416</td>\n",
       "    </tr>\n",
       "    <tr>\n",
       "      <th>16673</th>\n",
       "      <td>490352738</td>\n",
       "      <td>175800586</td>\n",
       "    </tr>\n",
       "    <tr>\n",
       "      <th>16674</th>\n",
       "      <td>542434757</td>\n",
       "      <td>17187483</td>\n",
       "    </tr>\n",
       "  </tbody>\n",
       "</table>\n",
       "<p>16675 rows × 2 columns</p>\n",
       "</div>"
      ],
      "text/plain": [
       "          320571     785168\n",
       "0         320571    1471027\n",
       "1         320571    3081872\n",
       "2         320571    3107732\n",
       "3         320571    3738290\n",
       "4         320571    3907676\n",
       "5         320571    4223048\n",
       "6         320571    5670138\n",
       "7         320571    6117019\n",
       "8         320571    7393355\n",
       "9         320571    7705629\n",
       "10        320571    7820335\n",
       "11        320571    7840885\n",
       "12        320571    8478716\n",
       "13        320571    9427552\n",
       "14        320571    9466360\n",
       "15        320571   10259290\n",
       "16        320571   10499365\n",
       "17        320571   10834767\n",
       "18        320571   10838955\n",
       "19        320571   11811054\n",
       "20        320571   12324764\n",
       "21        320571   12405197\n",
       "22        320571   12580620\n",
       "23        320571   12876917\n",
       "24        320571   13436972\n",
       "25        320571   14653469\n",
       "26        320571   14785302\n",
       "27        320571   17281764\n",
       "28        320571   18909575\n",
       "29        320571   19184983\n",
       "...          ...        ...\n",
       "16645  416673177   35107489\n",
       "16646  416673177   38141189\n",
       "16647  416673177   49815731\n",
       "16648  416673177   93672224\n",
       "16649  416673177  119315648\n",
       "16650  416673177  133330172\n",
       "16651  416673177  147563704\n",
       "16652  427311643   13472534\n",
       "16653  427311643   21211655\n",
       "16654  427311643   94861129\n",
       "16655  427311643  377196991\n",
       "16656  434195366   59118528\n",
       "16657  434195366   82745946\n",
       "16658  434195366  322589627\n",
       "16659  437350913    8351348\n",
       "16660  437350913   13376409\n",
       "16661  437350913   37732022\n",
       "16662  437350913   41065552\n",
       "16663  437350913   60435328\n",
       "16664  437350913   95103890\n",
       "16665  437350913  122833645\n",
       "16666  437350913  163697968\n",
       "16667  471642767   15616786\n",
       "16668  471642767   52447148\n",
       "16669  471642767  101279674\n",
       "16670  471642767  290529286\n",
       "16671  490352738   29661140\n",
       "16672  490352738   60528416\n",
       "16673  490352738  175800586\n",
       "16674  542434757   17187483\n",
       "\n",
       "[16675 rows x 2 columns]"
      ]
     },
     "execution_count": 2,
     "metadata": {},
     "output_type": "execute_result"
    }
   ],
   "source": [
    "edges"
   ]
  },
  {
   "cell_type": "code",
   "execution_count": 3,
   "metadata": {
    "collapsed": true
   },
   "outputs": [],
   "source": [
    "import numpy as np\n",
    "theta = np.linspace(0, 1, len(my_friends_names) + 1)[:-1] * 2 * np.pi\n",
    "theta = theta.astype(np.float32)\n",
    "pos = np.column_stack([np.cos(theta), np.sin(theta)])"
   ]
  },
  {
   "cell_type": "code",
   "execution_count": 8,
   "metadata": {},
   "outputs": [
    {
     "data": {
      "text/plain": [
       "array([[ 1.        ,  0.        ],\n",
       "       [ 0.9999551 ,  0.00947676],\n",
       "       [ 0.9998204 ,  0.01895267],\n",
       "       ...,\n",
       "       [ 0.9995959 , -0.02842693],\n",
       "       [ 0.9998204 , -0.01895249],\n",
       "       [ 0.9999551 , -0.00947682]], dtype=float32)"
      ]
     },
     "execution_count": 8,
     "metadata": {},
     "output_type": "execute_result"
    }
   ],
   "source": [
    "pos"
   ]
  },
  {
   "cell_type": "code",
   "execution_count": 9,
   "metadata": {
    "collapsed": true
   },
   "outputs": [],
   "source": [
    "def _rescale_layout(pos,scale=1):\n",
    "    # rescale to (-scale,scale) in all axes\n",
    "\n",
    "    # shift origin to (0,0)\n",
    "    lim=0 # max coordinate for all axes\n",
    "    for i in range(pos.shape[1]):\n",
    "        pos[:,i]-=pos[:,i].mean()\n",
    "        lim=max(pos[:,i].max(),lim)\n",
    "    # rescale to (-scale,scale) in all directions, preserves aspect\n",
    "    for i in range(pos.shape[1]):\n",
    "        pos[:,i]*=scale/lim\n",
    "    return pos"
   ]
  },
  {
   "cell_type": "code",
   "execution_count": 37,
   "metadata": {
    "collapsed": true
   },
   "outputs": [],
   "source": []
  },
  {
   "cell_type": "code",
   "execution_count": 38,
   "metadata": {},
   "outputs": [
    {
     "data": {
      "text/plain": [
       "array([[ 6.00000000e+00, -2.47218920e-08],\n",
       "       [ 5.99995512e+00,  9.47673437e-03],\n",
       "       [ 5.99982041e+00,  1.89526434e-02],\n",
       "       ...,\n",
       "       [ 5.99959588e+00, -2.84269578e-02],\n",
       "       [ 5.99982041e+00, -1.89525146e-02],\n",
       "       [ 5.99995512e+00, -9.47684675e-03]])"
      ]
     },
     "execution_count": 38,
     "metadata": {},
     "output_type": "execute_result"
    }
   ],
   "source": [
    "pos"
   ]
  },
  {
   "cell_type": "code",
   "execution_count": 12,
   "metadata": {
    "collapsed": true
   },
   "outputs": [],
   "source": [
    "pos = dict(zip(my_friends_names, pos))"
   ]
  },
  {
   "cell_type": "code",
   "execution_count": null,
   "metadata": {
    "collapsed": true
   },
   "outputs": [],
   "source": [
    "import numpy as np\n",
    "\n",
    "\n",
    "        # Discard the extra angle since it matches 0 radians.\n",
    "theta = np.linspace(0, 1, len(G) + 1)[:-1] * 5 * np.pi\n",
    "theta = theta.astype(np.float32)\n",
    "pos = np.column_stack([np.cos(theta), np.sin(theta)])\n",
    "pos = _rescale_layout(pos) #+ center\n",
    "pos = dict(zip(G, pos))\n",
    "\n",
    "    return pos"
   ]
  },
  {
   "cell_type": "code",
   "execution_count": 131,
   "metadata": {
    "collapsed": true
   },
   "outputs": [],
   "source": [
    "theta = np.linspace(0, 20000000000, len(my_friends_names) + 1)[:-1] * 10 * np.pi\n",
    "theta = theta.astype(np.float32)\n",
    "pos = np.column_stack([np.cos(theta), np.sin(theta)])\n",
    "pos = _rescale_layout(pos) + [0,0]\n",
    "pos = pd.DataFrame(pos)"
   ]
  },
  {
   "cell_type": "code",
   "execution_count": null,
   "metadata": {
    "collapsed": true
   },
   "outputs": [],
   "source": []
  },
  {
   "cell_type": "code",
   "execution_count": null,
   "metadata": {
    "collapsed": true
   },
   "outputs": [],
   "source": []
  },
  {
   "cell_type": "code",
   "execution_count": null,
   "metadata": {
    "collapsed": true
   },
   "outputs": [],
   "source": []
  },
  {
   "cell_type": "code",
   "execution_count": null,
   "metadata": {
    "collapsed": true
   },
   "outputs": [],
   "source": []
  },
  {
   "cell_type": "code",
   "execution_count": null,
   "metadata": {
    "collapsed": true
   },
   "outputs": [],
   "source": []
  },
  {
   "cell_type": "code",
   "execution_count": null,
   "metadata": {
    "collapsed": true
   },
   "outputs": [],
   "source": []
  },
  {
   "cell_type": "code",
   "execution_count": 132,
   "metadata": {
    "collapsed": true
   },
   "outputs": [],
   "source": [
    "import matplotlib.pyplot as plt"
   ]
  },
  {
   "cell_type": "code",
   "execution_count": 138,
   "metadata": {},
   "outputs": [
    {
     "data": {
      "text/plain": [
       "<matplotlib.collections.PathCollection at 0x11b5199d0>"
      ]
     },
     "execution_count": 138,
     "metadata": {},
     "output_type": "execute_result"
    },
    {
     "data": {
      "image/png": "[encoded data removed]",
      "text/plain": [
       "<Figure size 1080x1080 with 1 Axes>"
      ]
     },
     "metadata": {
      "needs_background": "light"
     },
     "output_type": "display_data"
    }
   ],
   "source": [
    "plt.rcParams[\"figure.figsize\"] = (15,15)\n",
    "plt.scatter(pos[pos.columns[0]], pos[pos.columns[1]], marker='o')"
   ]
  },
  {
   "cell_type": "code",
   "execution_count": null,
   "metadata": {
    "collapsed": true
   },
   "outputs": [],
   "source": []
  },
  {
   "cell_type": "code",
   "execution_count": null,
   "metadata": {
    "collapsed": true
   },
   "outputs": [],
   "source": []
  }
 ],
 "metadata": {
  "kernelspec": {
   "display_name": "Python 3",
   "language": "python",
   "name": "python3"
  },
  "language_info": {
   "codemirror_mode": {
    "name": "ipython",
    "version": 3
   },
   "file_extension": ".py",
   "mimetype": "text/x-python",
   "name": "python",
   "nbconvert_exporter": "python",
   "pygments_lexer": "ipython3",
   "version": "3.6.9"
  }
 },
 "nbformat": 4,
 "nbformat_minor": 2
}
